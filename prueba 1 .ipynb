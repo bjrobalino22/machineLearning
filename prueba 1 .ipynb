{
 "cells": [
  {
   "cell_type": "markdown",
   "id": "b630feb7-ca58-4864-9354-e5eedac12ad9",
   "metadata": {},
   "source": [
    "<img src=\"img/Recurso-26.png\" width=\"200\">\n",
    "\n",
    " Prueba primer parcial \n",
    "\n",
    "![logo](img/python_logo.png)\n",
    "\n",
    "*Bryan Robalino*"
   ]
  },
  {
   "cell_type": "markdown",
   "id": "9a764557-b285-4ec3-9a9c-6137c5984087",
   "metadata": {},
   "source": [
    "Desarrollar un programa en Python que reciba un conjunto de registros de estudiantes (nombre y lista de notas), e implemente estructuras de control para:\n",
    "•\tValidar que las notas estén entre 0 y 10 (inclusive)\n",
    "•\tCalcular el promedio individual\n",
    "•\tClasificar al estudiante con base en el promedio usando match o if-elif\n",
    "•\tUsar control de errores (try/except) para gestionar entradas defectuosas\n",
    "•\tAl final, mostrar un resumen con:\n",
    "o\tLa cantidad de estudiantes aprobados, reprobados y con calificación excelente\n",
    "o\tEl estudiante con el promedio más alto\n",
    "o\tUna lista de estudiantes ordenados por calificación (usando list comprehension con condiciones)\n"
   ]
  },
  {
   "cell_type": "code",
   "execution_count": null,
   "id": "8d632515-6b11-4a79-884a-ebb2382390b9",
   "metadata": {},
   "outputs": [],
   "source": [
    "\n",
    "alumnos = {}\n",
    "num_alumnos = int(input(\"¿Cuántos alumnos deseas ingresar?: \"))\n",
    "\n",
    "\n",
    "while True:\n",
    "    entrada = input(\"Ingrese el número de notas por alumno (debe ser 4): \").strip()\n",
    " ,
    "    if \" \" in entrada or not entrada.isdigit():\n",
    "        print(\"Error: debes ingresar sólo un número entero (por ejemplo: 4).\")\n",
    "        continue\n",
    "    num_notas = int(entrada)\n",
    "    if num_notas != 4:\n",
    "        print(\"Error: debes ingresar exactamente 4 notas.\")\n",
    "    else:\n",
    "        break\n",
    "\n",
    "\n",
    "for i in range(num_alumnos):\n",
    "    nombre = input(f\"\\nNombre del alumno {i+1}: \")\n",
    "    notas = []\n",
    "\n",
    "    for j in range(num_notas):\n",
    "        nota = float(input(f\"  Nota {j+1} de {nombre} (0–10): \"))\n",
    "        if 0 <= nota <= 10:\n",
    "            notas.append(nota)\n",
    "        else:\n",
    "            print(\"Error: la nota debe estar entre 0 y 10.\")\n",
    "    alumnos[nombre] = notas\n",
    "\n",
    "\n",
    "print(\"\\nResultados:\")\n",
    "for alumno, lista_notas in alumnos.items():\n",
    "    total = 0\n",
    "    contador = 0\n",
    "    for n in lista_notas:\n",
    "        total += n\n",
    "        contador += 1\n",
    "    promedio = total / contador if contador else 0\n",
    "\n",
    "    if promedio >= 9:\n",
    "        estado = \"Excelente\"\n",
    "    elif promedio >= 6:\n",
    "        estado = \"Aprobado\"\n",
    "    else:\n",
    "        estado = \"Reprobado\"\n",
    "\n",
    "    print(f\"  {alumno}: notas = {lista_notas}, promedio = {promedio:.2f} → {estado}\")\n",
    "\n"
   ]
  },
  {
   "cell_type": "markdown",
   "id": "dbaa9b63-6131-43b3-8653-4a038626b7c9",
   "metadata": {},
   "source": [
    "* La localización de una asignación a una variable en el código determina desde donde puedes acceder a esa variable.\n",
    "* Por ejemplo, una variable asignada dentro de una función sólo es visible dentro de esa función.\n",
    "* El alcance de la visibilidad de una variable determina su *scope*.\n",
    "* El término *scope* hace referencia a un espacio de nombres (*namespace*). Por ejemplo, una función establece su propio *namespace*."
   ]
  },
  {
   "cell_type": "markdown",
   "id": "1ac5e4ac-a8c2-494c-b1c8-6360a581ab95",
   "metadata": {},
   "source": [
    "* No hay necesidad de usar *global* para referenciar variables. Sólo es necesario para modificarlas."
   ]
  },
  {
   "cell_type": "markdown",
   "id": "ba6296cc-ccdb-479a-b695-6baf669c6021",
   "metadata": {},
   "source": [
    "* Sentencia *nonlocal* para modificar variables que no son locales, pero tampoco globales."
   ]
  },
  {
   "cell_type": "markdown",
   "id": "ceba2bff-297a-4dc6-94ff-b2ca2522128c",
   "metadata": {},
   "source": []
  },
  {
   "cell_type": "code",
   "execution_count": null,
   "id": "324eec46-87fe-48ff-8b68-c70be51fe85a",
   "metadata": {},
   "outputs": [],
   "source": []
  }
 ],
 "metadata": {
  "kernelspec": {
   "display_name": "Python [conda env:base] *",
   "language": "python",
   "name": "conda-base-py"
  },
  "language_info": {
   "codemirror_mode": {
    "name": "ipython",
    "version": 3
   },
   "file_extension": ".py",
   "mimetype": "text/x-python",
   "name": "python",
   "nbconvert_exporter": "python",
   "pygments_lexer": "ipython3",
   "version": "3.11.5"
  }
 },
 "nbformat": 4,
 "nbformat_minor": 5
}
